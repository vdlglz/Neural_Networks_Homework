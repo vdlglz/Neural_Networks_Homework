{
 "cells": [
  {
   "cell_type": "markdown",
   "metadata": {},
   "source": [
    "# Venture Funding with Deep Learning\n",
    "\n",
    "You work as a risk management associate at Alphabet Soup, a venture capital firm. Alphabet Soup’s business team receives many funding applications from startups every day. This team has asked you to help them create a model that predicts whether applicants will be successful if funded by Alphabet Soup.\n",
    "\n",
    "The business team has given you a CSV containing more than 34,000 organizations that have received funding from Alphabet Soup over the years. With your knowledge of machine learning and neural networks, you decide to use the features in the provided dataset to create a binary classifier model that will predict whether an applicant will become a successful business. The CSV file contains a variety of information about these businesses, including whether or not they ultimately became successful.\n",
    "\n",
    "## Instructions:\n",
    "\n",
    "The steps for this challenge are broken out into the following sections:\n",
    "\n",
    "* Prepare the data for use on a neural network model.\n",
    "\n",
    "* Compile and evaluate a binary classification model using a neural network.\n",
    "\n",
    "* Optimize the neural network model.\n",
    "\n",
    "### Prepare the Data for Use on a Neural Network Model \n",
    "\n",
    "Using your knowledge of Pandas and scikit-learn’s `StandardScaler()`, preprocess the dataset so that you can use it to compile and evaluate the neural network model later.\n",
    "\n",
    "Open the starter code file, and complete the following data preparation steps:\n",
    "\n",
    "1. Read the `applicants_data.csv` file into a Pandas DataFrame. Review the DataFrame, looking for categorical variables that will need to be encoded, as well as columns that could eventually define your features and target variables.   \n",
    "\n",
    "2. Drop the “EIN” (Employer Identification Number) and “NAME” columns from the DataFrame, because they are not relevant to the binary classification model.\n",
    " \n",
    "3. Encode the dataset’s categorical variables using `OneHotEncoder`, and then place the encoded variables into a new DataFrame.\n",
    "\n",
    "4. Add the original DataFrame’s numerical variables to the DataFrame containing the encoded variables.\n",
    "\n",
    "> **Note** To complete this step, you will employ the Pandas `concat()` function that was introduced earlier in this course. \n",
    "\n",
    "5. Using the preprocessed data, create the features (`X`) and target (`y`) datasets. The target dataset should be defined by the preprocessed DataFrame column “IS_SUCCESSFUL”. The remaining columns should define the features dataset. \n",
    "\n",
    "6. Split the features and target sets into training and testing datasets.\n",
    "\n",
    "7. Use scikit-learn's `StandardScaler` to scale the features data.\n",
    "\n",
    "### Compile and Evaluate a Binary Classification Model Using a Neural Network\n",
    "\n",
    "Use your knowledge of TensorFlow to design a binary classification deep neural network model. This model should use the dataset’s features to predict whether an Alphabet Soup&ndash;funded startup will be successful based on the features in the dataset. Consider the number of inputs before determining the number of layers that your model will contain or the number of neurons on each layer. Then, compile and fit your model. Finally, evaluate your binary classification model to calculate the model’s loss and accuracy. \n",
    " \n",
    "To do so, complete the following steps:\n",
    "\n",
    "1. Create a deep neural network by assigning the number of input features, the number of layers, and the number of neurons on each layer using Tensorflow’s Keras.\n",
    "\n",
    "> **Hint** You can start with a two-layer deep neural network model that uses the `relu` activation function for both layers.\n",
    "\n",
    "2. Compile and fit the model using the `binary_crossentropy` loss function, the `adam` optimizer, and the `accuracy` evaluation metric.\n",
    "\n",
    "> **Hint** When fitting the model, start with a small number of epochs, such as 20, 50, or 100.\n",
    "\n",
    "3. Evaluate the model using the test data to determine the model’s loss and accuracy.\n",
    "\n",
    "4. Save and export your model to an HDF5 file, and name the file `AlphabetSoup.h5`. \n",
    "\n",
    "### Optimize the Neural Network Model\n",
    "\n",
    "Using your knowledge of TensorFlow and Keras, optimize your model to improve the model's accuracy. Even if you do not successfully achieve a better accuracy, you'll need to demonstrate at least two attempts to optimize the model. You can include these attempts in your existing notebook. Or, you can make copies of the starter notebook in the same folder, rename them, and code each model optimization in a new notebook. \n",
    "\n",
    "> **Note** You will not lose points if your model does not achieve a high accuracy, as long as you make at least two attempts to optimize the model.\n",
    "\n",
    "To do so, complete the following steps:\n",
    "\n",
    "1. Define at least three new deep neural network models (the original plus 2 optimization attempts). With each, try to improve on your first model’s predictive accuracy.\n",
    "\n",
    "> **Rewind** Recall that perfect accuracy has a value of 1, so accuracy improves as its value moves closer to 1. To optimize your model for a predictive accuracy as close to 1 as possible, you can use any or all of the following techniques:\n",
    ">\n",
    "> * Adjust the input data by dropping different features columns to ensure that no variables or outliers confuse the model.\n",
    ">\n",
    "> * Add more neurons (nodes) to a hidden layer.\n",
    ">\n",
    "> * Add more hidden layers.\n",
    ">\n",
    "> * Use different activation functions for the hidden layers.\n",
    ">\n",
    "> * Add to or reduce the number of epochs in the training regimen.\n",
    "\n",
    "2. After finishing your models, display the accuracy scores achieved by each model, and compare the results.\n",
    "\n",
    "3. Save each of your models as an HDF5 file.\n"
   ]
  },
  {
   "cell_type": "code",
   "execution_count": 151,
   "metadata": {},
   "outputs": [],
   "source": [
    "# Imports\n",
    "import pandas as pd\n",
    "from pathlib import Path\n",
    "import tensorflow as tf\n",
    "from tensorflow.keras.layers import Dense\n",
    "from tensorflow.keras.models import Sequential\n",
    "from sklearn.model_selection import train_test_split\n",
    "from sklearn.preprocessing import StandardScaler,OneHotEncoder"
   ]
  },
  {
   "cell_type": "markdown",
   "metadata": {},
   "source": [
    "---\n",
    "\n",
    "## Prepare the data to be used on a neural network model"
   ]
  },
  {
   "cell_type": "markdown",
   "metadata": {},
   "source": [
    "### Step 1: Read the `applicants_data.csv` file into a Pandas DataFrame. Review the DataFrame, looking for categorical variables that will need to be encoded, as well as columns that could eventually define your features and target variables.  \n"
   ]
  },
  {
   "cell_type": "code",
   "execution_count": 152,
   "metadata": {},
   "outputs": [
    {
     "data": {
      "text/html": [
       "<div>\n",
       "<style scoped>\n",
       "    .dataframe tbody tr th:only-of-type {\n",
       "        vertical-align: middle;\n",
       "    }\n",
       "\n",
       "    .dataframe tbody tr th {\n",
       "        vertical-align: top;\n",
       "    }\n",
       "\n",
       "    .dataframe thead th {\n",
       "        text-align: right;\n",
       "    }\n",
       "</style>\n",
       "<table border=\"1\" class=\"dataframe\">\n",
       "  <thead>\n",
       "    <tr style=\"text-align: right;\">\n",
       "      <th></th>\n",
       "      <th>EIN</th>\n",
       "      <th>NAME</th>\n",
       "      <th>APPLICATION_TYPE</th>\n",
       "      <th>AFFILIATION</th>\n",
       "      <th>CLASSIFICATION</th>\n",
       "      <th>USE_CASE</th>\n",
       "      <th>ORGANIZATION</th>\n",
       "      <th>STATUS</th>\n",
       "      <th>INCOME_AMT</th>\n",
       "      <th>SPECIAL_CONSIDERATIONS</th>\n",
       "      <th>ASK_AMT</th>\n",
       "      <th>IS_SUCCESSFUL</th>\n",
       "    </tr>\n",
       "  </thead>\n",
       "  <tbody>\n",
       "    <tr>\n",
       "      <th>0</th>\n",
       "      <td>10520599</td>\n",
       "      <td>BLUE KNIGHTS MOTORCYCLE CLUB</td>\n",
       "      <td>T10</td>\n",
       "      <td>Independent</td>\n",
       "      <td>C1000</td>\n",
       "      <td>ProductDev</td>\n",
       "      <td>Association</td>\n",
       "      <td>1</td>\n",
       "      <td>0</td>\n",
       "      <td>N</td>\n",
       "      <td>5000</td>\n",
       "      <td>1</td>\n",
       "    </tr>\n",
       "    <tr>\n",
       "      <th>1</th>\n",
       "      <td>10531628</td>\n",
       "      <td>AMERICAN CHESAPEAKE CLUB CHARITABLE TR</td>\n",
       "      <td>T3</td>\n",
       "      <td>Independent</td>\n",
       "      <td>C2000</td>\n",
       "      <td>Preservation</td>\n",
       "      <td>Co-operative</td>\n",
       "      <td>1</td>\n",
       "      <td>1-9999</td>\n",
       "      <td>N</td>\n",
       "      <td>108590</td>\n",
       "      <td>1</td>\n",
       "    </tr>\n",
       "    <tr>\n",
       "      <th>2</th>\n",
       "      <td>10547893</td>\n",
       "      <td>ST CLOUD PROFESSIONAL FIREFIGHTERS</td>\n",
       "      <td>T5</td>\n",
       "      <td>CompanySponsored</td>\n",
       "      <td>C3000</td>\n",
       "      <td>ProductDev</td>\n",
       "      <td>Association</td>\n",
       "      <td>1</td>\n",
       "      <td>0</td>\n",
       "      <td>N</td>\n",
       "      <td>5000</td>\n",
       "      <td>0</td>\n",
       "    </tr>\n",
       "    <tr>\n",
       "      <th>3</th>\n",
       "      <td>10553066</td>\n",
       "      <td>SOUTHSIDE ATHLETIC ASSOCIATION</td>\n",
       "      <td>T3</td>\n",
       "      <td>CompanySponsored</td>\n",
       "      <td>C2000</td>\n",
       "      <td>Preservation</td>\n",
       "      <td>Trust</td>\n",
       "      <td>1</td>\n",
       "      <td>10000-24999</td>\n",
       "      <td>N</td>\n",
       "      <td>6692</td>\n",
       "      <td>1</td>\n",
       "    </tr>\n",
       "    <tr>\n",
       "      <th>4</th>\n",
       "      <td>10556103</td>\n",
       "      <td>GENETIC RESEARCH INSTITUTE OF THE DESERT</td>\n",
       "      <td>T3</td>\n",
       "      <td>Independent</td>\n",
       "      <td>C1000</td>\n",
       "      <td>Heathcare</td>\n",
       "      <td>Trust</td>\n",
       "      <td>1</td>\n",
       "      <td>100000-499999</td>\n",
       "      <td>N</td>\n",
       "      <td>142590</td>\n",
       "      <td>1</td>\n",
       "    </tr>\n",
       "  </tbody>\n",
       "</table>\n",
       "</div>"
      ],
      "text/plain": [
       "        EIN                                      NAME APPLICATION_TYPE  \\\n",
       "0  10520599              BLUE KNIGHTS MOTORCYCLE CLUB              T10   \n",
       "1  10531628    AMERICAN CHESAPEAKE CLUB CHARITABLE TR               T3   \n",
       "2  10547893        ST CLOUD PROFESSIONAL FIREFIGHTERS               T5   \n",
       "3  10553066            SOUTHSIDE ATHLETIC ASSOCIATION               T3   \n",
       "4  10556103  GENETIC RESEARCH INSTITUTE OF THE DESERT               T3   \n",
       "\n",
       "        AFFILIATION CLASSIFICATION      USE_CASE  ORGANIZATION  STATUS  \\\n",
       "0       Independent          C1000    ProductDev   Association       1   \n",
       "1       Independent          C2000  Preservation  Co-operative       1   \n",
       "2  CompanySponsored          C3000    ProductDev   Association       1   \n",
       "3  CompanySponsored          C2000  Preservation         Trust       1   \n",
       "4       Independent          C1000     Heathcare         Trust       1   \n",
       "\n",
       "      INCOME_AMT SPECIAL_CONSIDERATIONS  ASK_AMT  IS_SUCCESSFUL  \n",
       "0              0                      N     5000              1  \n",
       "1         1-9999                      N   108590              1  \n",
       "2              0                      N     5000              0  \n",
       "3    10000-24999                      N     6692              1  \n",
       "4  100000-499999                      N   142590              1  "
      ]
     },
     "execution_count": 152,
     "metadata": {},
     "output_type": "execute_result"
    }
   ],
   "source": [
    "# Read the applicants_data.csv file from the Resources folder into a Pandas DataFrame\n",
    "applicant_data_df = pd.read_csv(Path(\"applicants_data.csv\"))\n",
    "\n",
    "# Review the DataFrame\n",
    "applicant_data_df.head()\n"
   ]
  },
  {
   "cell_type": "code",
   "execution_count": 153,
   "metadata": {},
   "outputs": [
    {
     "name": "stdout",
     "output_type": "stream",
     "text": [
      "<class 'pandas.core.frame.DataFrame'>\n",
      "RangeIndex: 34299 entries, 0 to 34298\n",
      "Data columns (total 12 columns):\n",
      " #   Column                  Non-Null Count  Dtype \n",
      "---  ------                  --------------  ----- \n",
      " 0   EIN                     34299 non-null  int64 \n",
      " 1   NAME                    34299 non-null  object\n",
      " 2   APPLICATION_TYPE        34299 non-null  object\n",
      " 3   AFFILIATION             34299 non-null  object\n",
      " 4   CLASSIFICATION          34299 non-null  object\n",
      " 5   USE_CASE                34299 non-null  object\n",
      " 6   ORGANIZATION            34299 non-null  object\n",
      " 7   STATUS                  34299 non-null  int64 \n",
      " 8   INCOME_AMT              34299 non-null  object\n",
      " 9   SPECIAL_CONSIDERATIONS  34299 non-null  object\n",
      " 10  ASK_AMT                 34299 non-null  int64 \n",
      " 11  IS_SUCCESSFUL           34299 non-null  int64 \n",
      "dtypes: int64(4), object(8)\n",
      "memory usage: 3.1+ MB\n"
     ]
    }
   ],
   "source": [
    "# Review the data types associated with the columns\n",
    "applicant_data_df.info()\n"
   ]
  },
  {
   "cell_type": "markdown",
   "metadata": {},
   "source": [
    "### Step 2: Drop the “EIN” (Employer Identification Number) and “NAME” columns from the DataFrame, because they are not relevant to the binary classification model."
   ]
  },
  {
   "cell_type": "code",
   "execution_count": 154,
   "metadata": {},
   "outputs": [
    {
     "data": {
      "text/html": [
       "<div>\n",
       "<style scoped>\n",
       "    .dataframe tbody tr th:only-of-type {\n",
       "        vertical-align: middle;\n",
       "    }\n",
       "\n",
       "    .dataframe tbody tr th {\n",
       "        vertical-align: top;\n",
       "    }\n",
       "\n",
       "    .dataframe thead th {\n",
       "        text-align: right;\n",
       "    }\n",
       "</style>\n",
       "<table border=\"1\" class=\"dataframe\">\n",
       "  <thead>\n",
       "    <tr style=\"text-align: right;\">\n",
       "      <th></th>\n",
       "      <th>APPLICATION_TYPE</th>\n",
       "      <th>AFFILIATION</th>\n",
       "      <th>CLASSIFICATION</th>\n",
       "      <th>USE_CASE</th>\n",
       "      <th>ORGANIZATION</th>\n",
       "      <th>STATUS</th>\n",
       "      <th>INCOME_AMT</th>\n",
       "      <th>SPECIAL_CONSIDERATIONS</th>\n",
       "      <th>ASK_AMT</th>\n",
       "      <th>IS_SUCCESSFUL</th>\n",
       "    </tr>\n",
       "  </thead>\n",
       "  <tbody>\n",
       "    <tr>\n",
       "      <th>0</th>\n",
       "      <td>T10</td>\n",
       "      <td>Independent</td>\n",
       "      <td>C1000</td>\n",
       "      <td>ProductDev</td>\n",
       "      <td>Association</td>\n",
       "      <td>1</td>\n",
       "      <td>0</td>\n",
       "      <td>N</td>\n",
       "      <td>5000</td>\n",
       "      <td>1</td>\n",
       "    </tr>\n",
       "    <tr>\n",
       "      <th>1</th>\n",
       "      <td>T3</td>\n",
       "      <td>Independent</td>\n",
       "      <td>C2000</td>\n",
       "      <td>Preservation</td>\n",
       "      <td>Co-operative</td>\n",
       "      <td>1</td>\n",
       "      <td>1-9999</td>\n",
       "      <td>N</td>\n",
       "      <td>108590</td>\n",
       "      <td>1</td>\n",
       "    </tr>\n",
       "    <tr>\n",
       "      <th>2</th>\n",
       "      <td>T5</td>\n",
       "      <td>CompanySponsored</td>\n",
       "      <td>C3000</td>\n",
       "      <td>ProductDev</td>\n",
       "      <td>Association</td>\n",
       "      <td>1</td>\n",
       "      <td>0</td>\n",
       "      <td>N</td>\n",
       "      <td>5000</td>\n",
       "      <td>0</td>\n",
       "    </tr>\n",
       "    <tr>\n",
       "      <th>3</th>\n",
       "      <td>T3</td>\n",
       "      <td>CompanySponsored</td>\n",
       "      <td>C2000</td>\n",
       "      <td>Preservation</td>\n",
       "      <td>Trust</td>\n",
       "      <td>1</td>\n",
       "      <td>10000-24999</td>\n",
       "      <td>N</td>\n",
       "      <td>6692</td>\n",
       "      <td>1</td>\n",
       "    </tr>\n",
       "    <tr>\n",
       "      <th>4</th>\n",
       "      <td>T3</td>\n",
       "      <td>Independent</td>\n",
       "      <td>C1000</td>\n",
       "      <td>Heathcare</td>\n",
       "      <td>Trust</td>\n",
       "      <td>1</td>\n",
       "      <td>100000-499999</td>\n",
       "      <td>N</td>\n",
       "      <td>142590</td>\n",
       "      <td>1</td>\n",
       "    </tr>\n",
       "  </tbody>\n",
       "</table>\n",
       "</div>"
      ],
      "text/plain": [
       "  APPLICATION_TYPE       AFFILIATION CLASSIFICATION      USE_CASE  \\\n",
       "0              T10       Independent          C1000    ProductDev   \n",
       "1               T3       Independent          C2000  Preservation   \n",
       "2               T5  CompanySponsored          C3000    ProductDev   \n",
       "3               T3  CompanySponsored          C2000  Preservation   \n",
       "4               T3       Independent          C1000     Heathcare   \n",
       "\n",
       "   ORGANIZATION  STATUS     INCOME_AMT SPECIAL_CONSIDERATIONS  ASK_AMT  \\\n",
       "0   Association       1              0                      N     5000   \n",
       "1  Co-operative       1         1-9999                      N   108590   \n",
       "2   Association       1              0                      N     5000   \n",
       "3         Trust       1    10000-24999                      N     6692   \n",
       "4         Trust       1  100000-499999                      N   142590   \n",
       "\n",
       "   IS_SUCCESSFUL  \n",
       "0              1  \n",
       "1              1  \n",
       "2              0  \n",
       "3              1  \n",
       "4              1  "
      ]
     },
     "execution_count": 154,
     "metadata": {},
     "output_type": "execute_result"
    }
   ],
   "source": [
    "# Drop the 'EIN' and 'NAME' columns from the DataFrame\n",
    "applicant_data_df = applicant_data_df.drop(columns= [\"EIN\", \"NAME\"])\n",
    "\n",
    "# Review the DataFrame\n",
    "applicant_data_df.head()\n"
   ]
  },
  {
   "cell_type": "markdown",
   "metadata": {},
   "source": [
    "### Step 3: Encode the dataset’s categorical variables using `OneHotEncoder`, and then place the encoded variables into a new DataFrame."
   ]
  },
  {
   "cell_type": "code",
   "execution_count": 155,
   "metadata": {},
   "outputs": [
    {
     "data": {
      "text/plain": [
       "['APPLICATION_TYPE',\n",
       " 'AFFILIATION',\n",
       " 'CLASSIFICATION',\n",
       " 'USE_CASE',\n",
       " 'ORGANIZATION',\n",
       " 'INCOME_AMT',\n",
       " 'SPECIAL_CONSIDERATIONS']"
      ]
     },
     "execution_count": 155,
     "metadata": {},
     "output_type": "execute_result"
    }
   ],
   "source": [
    "# Create a list of categorical variables \n",
    "categorical_variables = list(applicant_data_df.dtypes[applicant_data_df.dtypes == \"object\"].index)\n",
    "\n",
    "numerical_values_df = applicant_data_df.drop(columns = categorical_variables)\n",
    "\n",
    "# Display the categorical variables list\n",
    "categorical_variables\n"
   ]
  },
  {
   "cell_type": "code",
   "execution_count": 156,
   "metadata": {},
   "outputs": [],
   "source": [
    "# Create a OneHotEncoder instance\n",
    "enc = OneHotEncoder(sparse=False)\n"
   ]
  },
  {
   "cell_type": "code",
   "execution_count": 157,
   "metadata": {},
   "outputs": [
    {
     "name": "stderr",
     "output_type": "stream",
     "text": [
      "C:\\Users\\glzvi\\anaconda3\\envs\\dev\\lib\\site-packages\\sklearn\\preprocessing\\_encoders.py:868: FutureWarning: `sparse` was renamed to `sparse_output` in version 1.2 and will be removed in 1.4. `sparse_output` is ignored unless you leave `sparse` to its default value.\n",
      "  warnings.warn(\n"
     ]
    }
   ],
   "source": [
    "# Encode the categorcal variables using OneHotEncoder\n",
    "encoded_data = enc.fit_transform(applicant_data_df[categorical_variables])\n"
   ]
  },
  {
   "cell_type": "code",
   "execution_count": 158,
   "metadata": {},
   "outputs": [
    {
     "data": {
      "text/html": [
       "<div>\n",
       "<style scoped>\n",
       "    .dataframe tbody tr th:only-of-type {\n",
       "        vertical-align: middle;\n",
       "    }\n",
       "\n",
       "    .dataframe tbody tr th {\n",
       "        vertical-align: top;\n",
       "    }\n",
       "\n",
       "    .dataframe thead th {\n",
       "        text-align: right;\n",
       "    }\n",
       "</style>\n",
       "<table border=\"1\" class=\"dataframe\">\n",
       "  <thead>\n",
       "    <tr style=\"text-align: right;\">\n",
       "      <th></th>\n",
       "      <th>APPLICATION_TYPE_T10</th>\n",
       "      <th>APPLICATION_TYPE_T12</th>\n",
       "      <th>APPLICATION_TYPE_T13</th>\n",
       "      <th>APPLICATION_TYPE_T14</th>\n",
       "      <th>APPLICATION_TYPE_T15</th>\n",
       "      <th>APPLICATION_TYPE_T17</th>\n",
       "      <th>APPLICATION_TYPE_T19</th>\n",
       "      <th>APPLICATION_TYPE_T2</th>\n",
       "      <th>APPLICATION_TYPE_T25</th>\n",
       "      <th>APPLICATION_TYPE_T29</th>\n",
       "      <th>...</th>\n",
       "      <th>INCOME_AMT_1-9999</th>\n",
       "      <th>INCOME_AMT_10000-24999</th>\n",
       "      <th>INCOME_AMT_100000-499999</th>\n",
       "      <th>INCOME_AMT_10M-50M</th>\n",
       "      <th>INCOME_AMT_1M-5M</th>\n",
       "      <th>INCOME_AMT_25000-99999</th>\n",
       "      <th>INCOME_AMT_50M+</th>\n",
       "      <th>INCOME_AMT_5M-10M</th>\n",
       "      <th>SPECIAL_CONSIDERATIONS_N</th>\n",
       "      <th>SPECIAL_CONSIDERATIONS_Y</th>\n",
       "    </tr>\n",
       "  </thead>\n",
       "  <tbody>\n",
       "    <tr>\n",
       "      <th>0</th>\n",
       "      <td>1.0</td>\n",
       "      <td>0.0</td>\n",
       "      <td>0.0</td>\n",
       "      <td>0.0</td>\n",
       "      <td>0.0</td>\n",
       "      <td>0.0</td>\n",
       "      <td>0.0</td>\n",
       "      <td>0.0</td>\n",
       "      <td>0.0</td>\n",
       "      <td>0.0</td>\n",
       "      <td>...</td>\n",
       "      <td>0.0</td>\n",
       "      <td>0.0</td>\n",
       "      <td>0.0</td>\n",
       "      <td>0.0</td>\n",
       "      <td>0.0</td>\n",
       "      <td>0.0</td>\n",
       "      <td>0.0</td>\n",
       "      <td>0.0</td>\n",
       "      <td>1.0</td>\n",
       "      <td>0.0</td>\n",
       "    </tr>\n",
       "    <tr>\n",
       "      <th>1</th>\n",
       "      <td>0.0</td>\n",
       "      <td>0.0</td>\n",
       "      <td>0.0</td>\n",
       "      <td>0.0</td>\n",
       "      <td>0.0</td>\n",
       "      <td>0.0</td>\n",
       "      <td>0.0</td>\n",
       "      <td>0.0</td>\n",
       "      <td>0.0</td>\n",
       "      <td>0.0</td>\n",
       "      <td>...</td>\n",
       "      <td>1.0</td>\n",
       "      <td>0.0</td>\n",
       "      <td>0.0</td>\n",
       "      <td>0.0</td>\n",
       "      <td>0.0</td>\n",
       "      <td>0.0</td>\n",
       "      <td>0.0</td>\n",
       "      <td>0.0</td>\n",
       "      <td>1.0</td>\n",
       "      <td>0.0</td>\n",
       "    </tr>\n",
       "    <tr>\n",
       "      <th>2</th>\n",
       "      <td>0.0</td>\n",
       "      <td>0.0</td>\n",
       "      <td>0.0</td>\n",
       "      <td>0.0</td>\n",
       "      <td>0.0</td>\n",
       "      <td>0.0</td>\n",
       "      <td>0.0</td>\n",
       "      <td>0.0</td>\n",
       "      <td>0.0</td>\n",
       "      <td>0.0</td>\n",
       "      <td>...</td>\n",
       "      <td>0.0</td>\n",
       "      <td>0.0</td>\n",
       "      <td>0.0</td>\n",
       "      <td>0.0</td>\n",
       "      <td>0.0</td>\n",
       "      <td>0.0</td>\n",
       "      <td>0.0</td>\n",
       "      <td>0.0</td>\n",
       "      <td>1.0</td>\n",
       "      <td>0.0</td>\n",
       "    </tr>\n",
       "    <tr>\n",
       "      <th>3</th>\n",
       "      <td>0.0</td>\n",
       "      <td>0.0</td>\n",
       "      <td>0.0</td>\n",
       "      <td>0.0</td>\n",
       "      <td>0.0</td>\n",
       "      <td>0.0</td>\n",
       "      <td>0.0</td>\n",
       "      <td>0.0</td>\n",
       "      <td>0.0</td>\n",
       "      <td>0.0</td>\n",
       "      <td>...</td>\n",
       "      <td>0.0</td>\n",
       "      <td>1.0</td>\n",
       "      <td>0.0</td>\n",
       "      <td>0.0</td>\n",
       "      <td>0.0</td>\n",
       "      <td>0.0</td>\n",
       "      <td>0.0</td>\n",
       "      <td>0.0</td>\n",
       "      <td>1.0</td>\n",
       "      <td>0.0</td>\n",
       "    </tr>\n",
       "    <tr>\n",
       "      <th>4</th>\n",
       "      <td>0.0</td>\n",
       "      <td>0.0</td>\n",
       "      <td>0.0</td>\n",
       "      <td>0.0</td>\n",
       "      <td>0.0</td>\n",
       "      <td>0.0</td>\n",
       "      <td>0.0</td>\n",
       "      <td>0.0</td>\n",
       "      <td>0.0</td>\n",
       "      <td>0.0</td>\n",
       "      <td>...</td>\n",
       "      <td>0.0</td>\n",
       "      <td>0.0</td>\n",
       "      <td>1.0</td>\n",
       "      <td>0.0</td>\n",
       "      <td>0.0</td>\n",
       "      <td>0.0</td>\n",
       "      <td>0.0</td>\n",
       "      <td>0.0</td>\n",
       "      <td>1.0</td>\n",
       "      <td>0.0</td>\n",
       "    </tr>\n",
       "  </tbody>\n",
       "</table>\n",
       "<p>5 rows × 114 columns</p>\n",
       "</div>"
      ],
      "text/plain": [
       "   APPLICATION_TYPE_T10  APPLICATION_TYPE_T12  APPLICATION_TYPE_T13  \\\n",
       "0                   1.0                   0.0                   0.0   \n",
       "1                   0.0                   0.0                   0.0   \n",
       "2                   0.0                   0.0                   0.0   \n",
       "3                   0.0                   0.0                   0.0   \n",
       "4                   0.0                   0.0                   0.0   \n",
       "\n",
       "   APPLICATION_TYPE_T14  APPLICATION_TYPE_T15  APPLICATION_TYPE_T17  \\\n",
       "0                   0.0                   0.0                   0.0   \n",
       "1                   0.0                   0.0                   0.0   \n",
       "2                   0.0                   0.0                   0.0   \n",
       "3                   0.0                   0.0                   0.0   \n",
       "4                   0.0                   0.0                   0.0   \n",
       "\n",
       "   APPLICATION_TYPE_T19  APPLICATION_TYPE_T2  APPLICATION_TYPE_T25  \\\n",
       "0                   0.0                  0.0                   0.0   \n",
       "1                   0.0                  0.0                   0.0   \n",
       "2                   0.0                  0.0                   0.0   \n",
       "3                   0.0                  0.0                   0.0   \n",
       "4                   0.0                  0.0                   0.0   \n",
       "\n",
       "   APPLICATION_TYPE_T29  ...  INCOME_AMT_1-9999  INCOME_AMT_10000-24999  \\\n",
       "0                   0.0  ...                0.0                     0.0   \n",
       "1                   0.0  ...                1.0                     0.0   \n",
       "2                   0.0  ...                0.0                     0.0   \n",
       "3                   0.0  ...                0.0                     1.0   \n",
       "4                   0.0  ...                0.0                     0.0   \n",
       "\n",
       "   INCOME_AMT_100000-499999  INCOME_AMT_10M-50M  INCOME_AMT_1M-5M  \\\n",
       "0                       0.0                 0.0               0.0   \n",
       "1                       0.0                 0.0               0.0   \n",
       "2                       0.0                 0.0               0.0   \n",
       "3                       0.0                 0.0               0.0   \n",
       "4                       1.0                 0.0               0.0   \n",
       "\n",
       "   INCOME_AMT_25000-99999  INCOME_AMT_50M+  INCOME_AMT_5M-10M  \\\n",
       "0                     0.0              0.0                0.0   \n",
       "1                     0.0              0.0                0.0   \n",
       "2                     0.0              0.0                0.0   \n",
       "3                     0.0              0.0                0.0   \n",
       "4                     0.0              0.0                0.0   \n",
       "\n",
       "   SPECIAL_CONSIDERATIONS_N  SPECIAL_CONSIDERATIONS_Y  \n",
       "0                       1.0                       0.0  \n",
       "1                       1.0                       0.0  \n",
       "2                       1.0                       0.0  \n",
       "3                       1.0                       0.0  \n",
       "4                       1.0                       0.0  \n",
       "\n",
       "[5 rows x 114 columns]"
      ]
     },
     "execution_count": 158,
     "metadata": {},
     "output_type": "execute_result"
    }
   ],
   "source": [
    "# Create a DataFrame with the encoded variables\n",
    "encoded_df = pd.DataFrame(\n",
    "    encoded_data,\n",
    "    columns = enc.get_feature_names_out(categorical_variables)\n",
    ")\n",
    "\n",
    "\n",
    "# Review the DataFrame\n",
    "encoded_df.head()\n"
   ]
  },
  {
   "cell_type": "markdown",
   "metadata": {},
   "source": [
    "### Step 4: Add the original DataFrame’s numerical variables to the DataFrame containing the encoded variables.\n",
    "\n",
    "> **Note** To complete this step, you will employ the Pandas `concat()` function that was introduced earlier in this course. "
   ]
  },
  {
   "cell_type": "code",
   "execution_count": 159,
   "metadata": {},
   "outputs": [
    {
     "data": {
      "text/html": [
       "<div>\n",
       "<style scoped>\n",
       "    .dataframe tbody tr th:only-of-type {\n",
       "        vertical-align: middle;\n",
       "    }\n",
       "\n",
       "    .dataframe tbody tr th {\n",
       "        vertical-align: top;\n",
       "    }\n",
       "\n",
       "    .dataframe thead th {\n",
       "        text-align: right;\n",
       "    }\n",
       "</style>\n",
       "<table border=\"1\" class=\"dataframe\">\n",
       "  <thead>\n",
       "    <tr style=\"text-align: right;\">\n",
       "      <th></th>\n",
       "      <th>APPLICATION_TYPE_T10</th>\n",
       "      <th>APPLICATION_TYPE_T12</th>\n",
       "      <th>APPLICATION_TYPE_T13</th>\n",
       "      <th>APPLICATION_TYPE_T14</th>\n",
       "      <th>APPLICATION_TYPE_T15</th>\n",
       "      <th>APPLICATION_TYPE_T17</th>\n",
       "      <th>APPLICATION_TYPE_T19</th>\n",
       "      <th>APPLICATION_TYPE_T2</th>\n",
       "      <th>APPLICATION_TYPE_T25</th>\n",
       "      <th>APPLICATION_TYPE_T29</th>\n",
       "      <th>...</th>\n",
       "      <th>INCOME_AMT_10M-50M</th>\n",
       "      <th>INCOME_AMT_1M-5M</th>\n",
       "      <th>INCOME_AMT_25000-99999</th>\n",
       "      <th>INCOME_AMT_50M+</th>\n",
       "      <th>INCOME_AMT_5M-10M</th>\n",
       "      <th>SPECIAL_CONSIDERATIONS_N</th>\n",
       "      <th>SPECIAL_CONSIDERATIONS_Y</th>\n",
       "      <th>STATUS</th>\n",
       "      <th>ASK_AMT</th>\n",
       "      <th>IS_SUCCESSFUL</th>\n",
       "    </tr>\n",
       "  </thead>\n",
       "  <tbody>\n",
       "    <tr>\n",
       "      <th>0</th>\n",
       "      <td>1.0</td>\n",
       "      <td>0.0</td>\n",
       "      <td>0.0</td>\n",
       "      <td>0.0</td>\n",
       "      <td>0.0</td>\n",
       "      <td>0.0</td>\n",
       "      <td>0.0</td>\n",
       "      <td>0.0</td>\n",
       "      <td>0.0</td>\n",
       "      <td>0.0</td>\n",
       "      <td>...</td>\n",
       "      <td>0.0</td>\n",
       "      <td>0.0</td>\n",
       "      <td>0.0</td>\n",
       "      <td>0.0</td>\n",
       "      <td>0.0</td>\n",
       "      <td>1.0</td>\n",
       "      <td>0.0</td>\n",
       "      <td>NaN</td>\n",
       "      <td>NaN</td>\n",
       "      <td>NaN</td>\n",
       "    </tr>\n",
       "    <tr>\n",
       "      <th>1</th>\n",
       "      <td>0.0</td>\n",
       "      <td>0.0</td>\n",
       "      <td>0.0</td>\n",
       "      <td>0.0</td>\n",
       "      <td>0.0</td>\n",
       "      <td>0.0</td>\n",
       "      <td>0.0</td>\n",
       "      <td>0.0</td>\n",
       "      <td>0.0</td>\n",
       "      <td>0.0</td>\n",
       "      <td>...</td>\n",
       "      <td>0.0</td>\n",
       "      <td>0.0</td>\n",
       "      <td>0.0</td>\n",
       "      <td>0.0</td>\n",
       "      <td>0.0</td>\n",
       "      <td>1.0</td>\n",
       "      <td>0.0</td>\n",
       "      <td>NaN</td>\n",
       "      <td>NaN</td>\n",
       "      <td>NaN</td>\n",
       "    </tr>\n",
       "    <tr>\n",
       "      <th>2</th>\n",
       "      <td>0.0</td>\n",
       "      <td>0.0</td>\n",
       "      <td>0.0</td>\n",
       "      <td>0.0</td>\n",
       "      <td>0.0</td>\n",
       "      <td>0.0</td>\n",
       "      <td>0.0</td>\n",
       "      <td>0.0</td>\n",
       "      <td>0.0</td>\n",
       "      <td>0.0</td>\n",
       "      <td>...</td>\n",
       "      <td>0.0</td>\n",
       "      <td>0.0</td>\n",
       "      <td>0.0</td>\n",
       "      <td>0.0</td>\n",
       "      <td>0.0</td>\n",
       "      <td>1.0</td>\n",
       "      <td>0.0</td>\n",
       "      <td>NaN</td>\n",
       "      <td>NaN</td>\n",
       "      <td>NaN</td>\n",
       "    </tr>\n",
       "    <tr>\n",
       "      <th>3</th>\n",
       "      <td>0.0</td>\n",
       "      <td>0.0</td>\n",
       "      <td>0.0</td>\n",
       "      <td>0.0</td>\n",
       "      <td>0.0</td>\n",
       "      <td>0.0</td>\n",
       "      <td>0.0</td>\n",
       "      <td>0.0</td>\n",
       "      <td>0.0</td>\n",
       "      <td>0.0</td>\n",
       "      <td>...</td>\n",
       "      <td>0.0</td>\n",
       "      <td>0.0</td>\n",
       "      <td>0.0</td>\n",
       "      <td>0.0</td>\n",
       "      <td>0.0</td>\n",
       "      <td>1.0</td>\n",
       "      <td>0.0</td>\n",
       "      <td>NaN</td>\n",
       "      <td>NaN</td>\n",
       "      <td>NaN</td>\n",
       "    </tr>\n",
       "    <tr>\n",
       "      <th>4</th>\n",
       "      <td>0.0</td>\n",
       "      <td>0.0</td>\n",
       "      <td>0.0</td>\n",
       "      <td>0.0</td>\n",
       "      <td>0.0</td>\n",
       "      <td>0.0</td>\n",
       "      <td>0.0</td>\n",
       "      <td>0.0</td>\n",
       "      <td>0.0</td>\n",
       "      <td>0.0</td>\n",
       "      <td>...</td>\n",
       "      <td>0.0</td>\n",
       "      <td>0.0</td>\n",
       "      <td>0.0</td>\n",
       "      <td>0.0</td>\n",
       "      <td>0.0</td>\n",
       "      <td>1.0</td>\n",
       "      <td>0.0</td>\n",
       "      <td>NaN</td>\n",
       "      <td>NaN</td>\n",
       "      <td>NaN</td>\n",
       "    </tr>\n",
       "  </tbody>\n",
       "</table>\n",
       "<p>5 rows × 117 columns</p>\n",
       "</div>"
      ],
      "text/plain": [
       "   APPLICATION_TYPE_T10  APPLICATION_TYPE_T12  APPLICATION_TYPE_T13  \\\n",
       "0                   1.0                   0.0                   0.0   \n",
       "1                   0.0                   0.0                   0.0   \n",
       "2                   0.0                   0.0                   0.0   \n",
       "3                   0.0                   0.0                   0.0   \n",
       "4                   0.0                   0.0                   0.0   \n",
       "\n",
       "   APPLICATION_TYPE_T14  APPLICATION_TYPE_T15  APPLICATION_TYPE_T17  \\\n",
       "0                   0.0                   0.0                   0.0   \n",
       "1                   0.0                   0.0                   0.0   \n",
       "2                   0.0                   0.0                   0.0   \n",
       "3                   0.0                   0.0                   0.0   \n",
       "4                   0.0                   0.0                   0.0   \n",
       "\n",
       "   APPLICATION_TYPE_T19  APPLICATION_TYPE_T2  APPLICATION_TYPE_T25  \\\n",
       "0                   0.0                  0.0                   0.0   \n",
       "1                   0.0                  0.0                   0.0   \n",
       "2                   0.0                  0.0                   0.0   \n",
       "3                   0.0                  0.0                   0.0   \n",
       "4                   0.0                  0.0                   0.0   \n",
       "\n",
       "   APPLICATION_TYPE_T29  ...  INCOME_AMT_10M-50M  INCOME_AMT_1M-5M  \\\n",
       "0                   0.0  ...                 0.0               0.0   \n",
       "1                   0.0  ...                 0.0               0.0   \n",
       "2                   0.0  ...                 0.0               0.0   \n",
       "3                   0.0  ...                 0.0               0.0   \n",
       "4                   0.0  ...                 0.0               0.0   \n",
       "\n",
       "   INCOME_AMT_25000-99999  INCOME_AMT_50M+  INCOME_AMT_5M-10M  \\\n",
       "0                     0.0              0.0                0.0   \n",
       "1                     0.0              0.0                0.0   \n",
       "2                     0.0              0.0                0.0   \n",
       "3                     0.0              0.0                0.0   \n",
       "4                     0.0              0.0                0.0   \n",
       "\n",
       "   SPECIAL_CONSIDERATIONS_N  SPECIAL_CONSIDERATIONS_Y  STATUS  ASK_AMT  \\\n",
       "0                       1.0                       0.0     NaN      NaN   \n",
       "1                       1.0                       0.0     NaN      NaN   \n",
       "2                       1.0                       0.0     NaN      NaN   \n",
       "3                       1.0                       0.0     NaN      NaN   \n",
       "4                       1.0                       0.0     NaN      NaN   \n",
       "\n",
       "   IS_SUCCESSFUL  \n",
       "0            NaN  \n",
       "1            NaN  \n",
       "2            NaN  \n",
       "3            NaN  \n",
       "4            NaN  \n",
       "\n",
       "[5 rows x 117 columns]"
      ]
     },
     "execution_count": 159,
     "metadata": {},
     "output_type": "execute_result"
    }
   ],
   "source": [
    "# Add the numerical variables from the original DataFrame to the one-hot encoding DataFrame\n",
    "\n",
    "\n",
    "encoded_df = pd.concat([encoded_df, numerical_values_df])\n",
    "\n",
    "# Review the Dataframe\n",
    "encoded_df.head()\n"
   ]
  },
  {
   "cell_type": "markdown",
   "metadata": {},
   "source": [
    "### Step 5: Using the preprocessed data, create the features (`X`) and target (`y`) datasets. The target dataset should be defined by the preprocessed DataFrame column “IS_SUCCESSFUL”. The remaining columns should define the features dataset. \n",
    "\n"
   ]
  },
  {
   "cell_type": "code",
   "execution_count": 160,
   "metadata": {},
   "outputs": [
    {
     "data": {
      "text/plain": [
       "0   NaN\n",
       "1   NaN\n",
       "2   NaN\n",
       "3   NaN\n",
       "4   NaN\n",
       "Name: IS_SUCCESSFUL, dtype: float64"
      ]
     },
     "execution_count": 160,
     "metadata": {},
     "output_type": "execute_result"
    }
   ],
   "source": [
    "# Define the target set y using the IS_SUCCESSFUL column\n",
    "y = encoded_df[\"IS_SUCCESSFUL\"]\n",
    "\n",
    "# Display a sample of y\n",
    "y.head()\n"
   ]
  },
  {
   "cell_type": "code",
   "execution_count": 161,
   "metadata": {},
   "outputs": [
    {
     "data": {
      "text/plain": [
       "APPLICATION_TYPE_T10        float64\n",
       "APPLICATION_TYPE_T12        float64\n",
       "APPLICATION_TYPE_T13        float64\n",
       "APPLICATION_TYPE_T14        float64\n",
       "APPLICATION_TYPE_T15        float64\n",
       "                             ...   \n",
       "INCOME_AMT_5M-10M           float64\n",
       "SPECIAL_CONSIDERATIONS_N    float64\n",
       "SPECIAL_CONSIDERATIONS_Y    float64\n",
       "STATUS                      float64\n",
       "ASK_AMT                     float64\n",
       "Length: 116, dtype: object"
      ]
     },
     "execution_count": 161,
     "metadata": {},
     "output_type": "execute_result"
    }
   ],
   "source": [
    "# Define features set X by selecting all columns but IS_SUCCESSFUL\n",
    "X = encoded_df.drop(columns= \"IS_SUCCESSFUL\")\n",
    "\n",
    "# Review the features DataFrame\n",
    "X.dtypes"
   ]
  },
  {
   "cell_type": "markdown",
   "metadata": {},
   "source": [
    "### Step 6: Split the features and target sets into training and testing datasets.\n"
   ]
  },
  {
   "cell_type": "code",
   "execution_count": 162,
   "metadata": {},
   "outputs": [],
   "source": [
    "# Split the preprocessed data into a training and testing dataset\n",
    "# Assign the function a random_state equal to 1\n",
    "X_train, X_test, y_train, y_test = train_test_split(X, y, random_state=1)\n"
   ]
  },
  {
   "cell_type": "markdown",
   "metadata": {},
   "source": [
    "### Step 7: Use scikit-learn's `StandardScaler` to scale the features data."
   ]
  },
  {
   "cell_type": "code",
   "execution_count": 163,
   "metadata": {},
   "outputs": [],
   "source": [
    "# Create a StandardScaler instance\n",
    " # Create a StandardScaler instance\n",
    "scaler = StandardScaler()\n",
    "\n",
    "# Fit the scaler to the features training dataset\n",
    "X_scaler = scaler.fit(X_train)\n",
    "\n",
    "# Fit the scaler to the features training dataset\n",
    "X_train_scaled = X_scaler.transform(X_train)\n",
    "X_test_scaled = X_scaler.transform(X_test)"
   ]
  },
  {
   "cell_type": "markdown",
   "metadata": {},
   "source": [
    "---\n",
    "\n",
    "## Compile and Evaluate a Binary Classification Model Using a Neural Network"
   ]
  },
  {
   "cell_type": "markdown",
   "metadata": {},
   "source": [
    "### Step 1: Create a deep neural network by assigning the number of input features, the number of layers, and the number of neurons on each layer using Tensorflow’s Keras.\n",
    "\n",
    "> **Hint** You can start with a two-layer deep neural network model that uses the `relu` activation function for both layers.\n"
   ]
  },
  {
   "cell_type": "code",
   "execution_count": 164,
   "metadata": {},
   "outputs": [
    {
     "data": {
      "text/plain": [
       "116"
      ]
     },
     "execution_count": 164,
     "metadata": {},
     "output_type": "execute_result"
    }
   ],
   "source": [
    "# Define the the number of inputs (features) to the model\n",
    "number_input_features = len(X_train.iloc[0])\n",
    "\n",
    "# Review the number of features\n",
    "number_input_features\n"
   ]
  },
  {
   "cell_type": "code",
   "execution_count": 165,
   "metadata": {},
   "outputs": [],
   "source": [
    "# Define the number of neurons in the output layer\n",
    "number_output_neurons = 1"
   ]
  },
  {
   "cell_type": "code",
   "execution_count": 166,
   "metadata": {},
   "outputs": [
    {
     "data": {
      "text/plain": [
       "58"
      ]
     },
     "execution_count": 166,
     "metadata": {},
     "output_type": "execute_result"
    }
   ],
   "source": [
    "# Define the number of hidden nodes for the first hidden layer\n",
    "hidden_nodes_layer1 =  (number_input_features + 1) // 2 \n",
    "\n",
    "# Review the number hidden nodes in the first layer\n",
    "hidden_nodes_layer1\n"
   ]
  },
  {
   "cell_type": "code",
   "execution_count": 167,
   "metadata": {},
   "outputs": [
    {
     "data": {
      "text/plain": [
       "29"
      ]
     },
     "execution_count": 167,
     "metadata": {},
     "output_type": "execute_result"
    }
   ],
   "source": [
    "# Define the number of hidden nodes for the second hidden layer\n",
    "hidden_nodes_layer2 = (hidden_nodes_layer1 + 1) // 2\n",
    "\n",
    "# Review the number hidden nodes in the second layer\n",
    "hidden_nodes_layer2\n"
   ]
  },
  {
   "cell_type": "code",
   "execution_count": 168,
   "metadata": {},
   "outputs": [],
   "source": [
    "# Create the Sequential model instance\n",
    "nn = Sequential()\n"
   ]
  },
  {
   "cell_type": "code",
   "execution_count": 169,
   "metadata": {},
   "outputs": [],
   "source": [
    "# Add the first hidden layer\n",
    "nn.add(Dense(units=hidden_nodes_layer1, input_dim=number_input_features, activation=\"relu\"))\n"
   ]
  },
  {
   "cell_type": "code",
   "execution_count": 170,
   "metadata": {},
   "outputs": [],
   "source": [
    "# Add the second hidden layer\n",
    "nn.add(Dense(units=hidden_nodes_layer2, activation=\"relu\"))\n"
   ]
  },
  {
   "cell_type": "code",
   "execution_count": 171,
   "metadata": {},
   "outputs": [],
   "source": [
    "# Add the output layer to the model specifying the number of output neurons and activation function\n",
    "nn.add(Dense(units=1, activation=\"sigmoid\"))\n"
   ]
  },
  {
   "cell_type": "code",
   "execution_count": 172,
   "metadata": {},
   "outputs": [
    {
     "name": "stdout",
     "output_type": "stream",
     "text": [
      "Model: \"sequential_6\"\n",
      "_________________________________________________________________\n",
      " Layer (type)                Output Shape              Param #   \n",
      "=================================================================\n",
      " dense_21 (Dense)            (None, 58)                6786      \n",
      "                                                                 \n",
      " dense_22 (Dense)            (None, 29)                1711      \n",
      "                                                                 \n",
      " dense_23 (Dense)            (None, 1)                 30        \n",
      "                                                                 \n",
      "=================================================================\n",
      "Total params: 8,527\n",
      "Trainable params: 8,527\n",
      "Non-trainable params: 0\n",
      "_________________________________________________________________\n"
     ]
    }
   ],
   "source": [
    "# Display the Sequential model summary\n",
    "nn.summary()\n"
   ]
  },
  {
   "cell_type": "markdown",
   "metadata": {},
   "source": [
    "### Step 2: Compile and fit the model using the `binary_crossentropy` loss function, the `adam` optimizer, and the `accuracy` evaluation metric.\n"
   ]
  },
  {
   "cell_type": "code",
   "execution_count": 173,
   "metadata": {},
   "outputs": [],
   "source": [
    "# Compile the Sequential model\n",
    "nn.compile(loss=\"binary_crossentropy\", optimizer=\"adam\", metrics=[\"accuracy\"])\n"
   ]
  },
  {
   "cell_type": "code",
   "execution_count": 174,
   "metadata": {},
   "outputs": [
    {
     "name": "stdout",
     "output_type": "stream",
     "text": [
      "Epoch 1/50\n",
      "1608/1608 [==============================] - 3s 1ms/step - loss: nan - accuracy: 0.2360\n",
      "Epoch 2/50\n",
      "1608/1608 [==============================] - 2s 1ms/step - loss: nan - accuracy: 0.2360\n",
      "Epoch 3/50\n",
      "1608/1608 [==============================] - 2s 1ms/step - loss: nan - accuracy: 0.2360\n",
      "Epoch 4/50\n",
      "1608/1608 [==============================] - 2s 1ms/step - loss: nan - accuracy: 0.2360\n",
      "Epoch 5/50\n",
      "1608/1608 [==============================] - 2s 1ms/step - loss: nan - accuracy: 0.2360\n",
      "Epoch 6/50\n",
      "1608/1608 [==============================] - 2s 1ms/step - loss: nan - accuracy: 0.2360\n",
      "Epoch 7/50\n",
      "1608/1608 [==============================] - 2s 1ms/step - loss: nan - accuracy: 0.2360\n",
      "Epoch 8/50\n",
      "1608/1608 [==============================] - 2s 1ms/step - loss: nan - accuracy: 0.2360\n",
      "Epoch 9/50\n",
      "1608/1608 [==============================] - 2s 1ms/step - loss: nan - accuracy: 0.2360\n",
      "Epoch 10/50\n",
      "1608/1608 [==============================] - 2s 1ms/step - loss: nan - accuracy: 0.2360\n",
      "Epoch 11/50\n",
      "1608/1608 [==============================] - 2s 1ms/step - loss: nan - accuracy: 0.2360\n",
      "Epoch 12/50\n",
      "1608/1608 [==============================] - 3s 2ms/step - loss: nan - accuracy: 0.2360\n",
      "Epoch 13/50\n",
      "1608/1608 [==============================] - 3s 2ms/step - loss: nan - accuracy: 0.2360\n",
      "Epoch 14/50\n",
      "1608/1608 [==============================] - 3s 2ms/step - loss: nan - accuracy: 0.2360\n",
      "Epoch 15/50\n",
      "1608/1608 [==============================] - 5s 3ms/step - loss: nan - accuracy: 0.2360\n",
      "Epoch 16/50\n",
      "1608/1608 [==============================] - 2s 1ms/step - loss: nan - accuracy: 0.2360\n",
      "Epoch 17/50\n",
      "1608/1608 [==============================] - 2s 1ms/step - loss: nan - accuracy: 0.2360\n",
      "Epoch 18/50\n",
      "1608/1608 [==============================] - 2s 2ms/step - loss: nan - accuracy: 0.2360\n",
      "Epoch 19/50\n",
      "1608/1608 [==============================] - 2s 1ms/step - loss: nan - accuracy: 0.2360\n",
      "Epoch 20/50\n",
      "1608/1608 [==============================] - 2s 1ms/step - loss: nan - accuracy: 0.2360\n",
      "Epoch 21/50\n",
      "1608/1608 [==============================] - 2s 1ms/step - loss: nan - accuracy: 0.2360\n",
      "Epoch 22/50\n",
      "1608/1608 [==============================] - 2s 1ms/step - loss: nan - accuracy: 0.2360\n",
      "Epoch 23/50\n",
      "1608/1608 [==============================] - 3s 2ms/step - loss: nan - accuracy: 0.2360\n",
      "Epoch 24/50\n",
      "1608/1608 [==============================] - 3s 2ms/step - loss: nan - accuracy: 0.2360\n",
      "Epoch 25/50\n",
      "1608/1608 [==============================] - 3s 2ms/step - loss: nan - accuracy: 0.2360\n",
      "Epoch 26/50\n",
      "1608/1608 [==============================] - 3s 2ms/step - loss: nan - accuracy: 0.2360\n",
      "Epoch 27/50\n",
      "1608/1608 [==============================] - 3s 2ms/step - loss: nan - accuracy: 0.2360\n",
      "Epoch 28/50\n",
      "1608/1608 [==============================] - 3s 2ms/step - loss: nan - accuracy: 0.2360\n",
      "Epoch 29/50\n",
      "1608/1608 [==============================] - 3s 2ms/step - loss: nan - accuracy: 0.2360\n",
      "Epoch 30/50\n",
      "1608/1608 [==============================] - 2s 2ms/step - loss: nan - accuracy: 0.2360\n",
      "Epoch 31/50\n",
      "1608/1608 [==============================] - 3s 2ms/step - loss: nan - accuracy: 0.2360\n",
      "Epoch 32/50\n",
      "1608/1608 [==============================] - 3s 2ms/step - loss: nan - accuracy: 0.2360\n",
      "Epoch 33/50\n",
      "1608/1608 [==============================] - 3s 2ms/step - loss: nan - accuracy: 0.2360\n",
      "Epoch 34/50\n",
      "1608/1608 [==============================] - 3s 2ms/step - loss: nan - accuracy: 0.2360\n",
      "Epoch 35/50\n",
      "1608/1608 [==============================] - 3s 2ms/step - loss: nan - accuracy: 0.2360\n",
      "Epoch 36/50\n",
      "1608/1608 [==============================] - 3s 2ms/step - loss: nan - accuracy: 0.2360\n",
      "Epoch 37/50\n",
      "1608/1608 [==============================] - 3s 2ms/step - loss: nan - accuracy: 0.2360\n",
      "Epoch 38/50\n",
      "1608/1608 [==============================] - 2s 2ms/step - loss: nan - accuracy: 0.2360\n",
      "Epoch 39/50\n",
      "1608/1608 [==============================] - 2s 2ms/step - loss: nan - accuracy: 0.2360\n",
      "Epoch 40/50\n",
      "1608/1608 [==============================] - 2s 1ms/step - loss: nan - accuracy: 0.2360\n",
      "Epoch 41/50\n",
      "1608/1608 [==============================] - 2s 1ms/step - loss: nan - accuracy: 0.2360\n",
      "Epoch 42/50\n",
      "1608/1608 [==============================] - 2s 1ms/step - loss: nan - accuracy: 0.2360\n",
      "Epoch 43/50\n",
      "1608/1608 [==============================] - 2s 1ms/step - loss: nan - accuracy: 0.2360\n",
      "Epoch 44/50\n",
      "1608/1608 [==============================] - 2s 1ms/step - loss: nan - accuracy: 0.2360\n",
      "Epoch 45/50\n",
      "1608/1608 [==============================] - 2s 1ms/step - loss: nan - accuracy: 0.2360\n",
      "Epoch 46/50\n",
      "1608/1608 [==============================] - 2s 1ms/step - loss: nan - accuracy: 0.2360\n",
      "Epoch 47/50\n",
      "1608/1608 [==============================] - 2s 1ms/step - loss: nan - accuracy: 0.2360\n",
      "Epoch 48/50\n",
      "1608/1608 [==============================] - 2s 1ms/step - loss: nan - accuracy: 0.2360\n",
      "Epoch 49/50\n",
      "1608/1608 [==============================] - 2s 1ms/step - loss: nan - accuracy: 0.2360\n",
      "Epoch 50/50\n",
      "1608/1608 [==============================] - 2s 1ms/step - loss: nan - accuracy: 0.2360\n"
     ]
    }
   ],
   "source": [
    "# Fit the model using 50 epochs and the training data\n",
    "fit_model = nn.fit(X_train_scaled, y_train, epochs=50)\n"
   ]
  },
  {
   "cell_type": "markdown",
   "metadata": {},
   "source": [
    "### Step 3: Evaluate the model using the test data to determine the model’s loss and accuracy.\n"
   ]
  },
  {
   "cell_type": "code",
   "execution_count": 175,
   "metadata": {},
   "outputs": [
    {
     "name": "stdout",
     "output_type": "stream",
     "text": [
      "536/536 - 1s - loss: nan - accuracy: 0.2272 - 611ms/epoch - 1ms/step\n",
      "Loss: nan, Accuracy: 0.22723032534122467\n"
     ]
    }
   ],
   "source": [
    "# Evaluate the model loss and accuracy metrics using the evaluate method and the test data\n",
    "model_loss, model_accuracy = nn.evaluate(X_test_scaled,y_test,verbose=2)\n",
    "\n",
    "# Display the model loss and accuracy results\n",
    "print(f\"Loss: {model_loss}, Accuracy: {model_accuracy}\")"
   ]
  },
  {
   "cell_type": "markdown",
   "metadata": {},
   "source": [
    "### Step 4: Save and export your model to an HDF5 file, and name the file `AlphabetSoup.h5`. \n"
   ]
  },
  {
   "cell_type": "code",
   "execution_count": 176,
   "metadata": {},
   "outputs": [],
   "source": [
    "# Set the model's file path\n",
    "file_path = Path(\"AlphabetSoup.h5\")\n",
    "\n",
    "# Export your model to a HDF5 file\n",
    "nn.save(file_path)\n"
   ]
  },
  {
   "cell_type": "markdown",
   "metadata": {},
   "source": [
    "---\n",
    "\n",
    "## Optimize the neural network model\n"
   ]
  },
  {
   "cell_type": "markdown",
   "metadata": {},
   "source": [
    "### Step 1: Define at least three new deep neural network models (resulting in the original plus 3 optimization attempts). With each, try to improve on your first model’s predictive accuracy.\n",
    "\n",
    "> **Rewind** Recall that perfect accuracy has a value of 1, so accuracy improves as its value moves closer to 1. To optimize your model for a predictive accuracy as close to 1 as possible, you can use any or all of the following techniques:\n",
    ">\n",
    "> * Adjust the input data by dropping different features columns to ensure that no variables or outliers confuse the model.\n",
    ">\n",
    "> * Add more neurons (nodes) to a hidden layer.\n",
    ">\n",
    "> * Add more hidden layers.\n",
    ">\n",
    "> * Use different activation functions for the hidden layers.\n",
    ">\n",
    "> * Add to or reduce the number of epochs in the training regimen.\n"
   ]
  },
  {
   "cell_type": "markdown",
   "metadata": {},
   "source": [
    "### Alternative Model 1"
   ]
  },
  {
   "cell_type": "code",
   "execution_count": 177,
   "metadata": {},
   "outputs": [
    {
     "data": {
      "text/plain": [
       "116"
      ]
     },
     "execution_count": 177,
     "metadata": {},
     "output_type": "execute_result"
    }
   ],
   "source": [
    "# Define the the number of inputs (features) to the model\n",
    "number_input_features = len(X_train.iloc[0])\n",
    "\n",
    "# Review the number of features\n",
    "number_input_features"
   ]
  },
  {
   "cell_type": "code",
   "execution_count": 178,
   "metadata": {},
   "outputs": [],
   "source": [
    "# Define the number of neurons in the output layer\n",
    "number_output_neurons_A1 = 1"
   ]
  },
  {
   "cell_type": "code",
   "execution_count": 179,
   "metadata": {},
   "outputs": [
    {
     "data": {
      "text/plain": [
       "58"
      ]
     },
     "execution_count": 179,
     "metadata": {},
     "output_type": "execute_result"
    }
   ],
   "source": [
    "# Define the number of hidden nodes for the first hidden layer\n",
    "hidden_nodes_layer1_A1 = (number_input_features + 1) // 2\n",
    "\n",
    "# Review the number of hidden nodes in the first layer\n",
    "hidden_nodes_layer1_A1"
   ]
  },
  {
   "cell_type": "code",
   "execution_count": 180,
   "metadata": {},
   "outputs": [],
   "source": [
    "# Create the Sequential model instance\n",
    "nn_A1 = Sequential()"
   ]
  },
  {
   "cell_type": "code",
   "execution_count": 181,
   "metadata": {},
   "outputs": [
    {
     "name": "stdout",
     "output_type": "stream",
     "text": [
      "Model: \"sequential_6\"\n",
      "_________________________________________________________________\n",
      " Layer (type)                Output Shape              Param #   \n",
      "=================================================================\n",
      " dense_21 (Dense)            (None, 58)                6786      \n",
      "                                                                 \n",
      " dense_22 (Dense)            (None, 29)                1711      \n",
      "                                                                 \n",
      " dense_23 (Dense)            (None, 1)                 30        \n",
      "                                                                 \n",
      " dense_24 (Dense)            (None, 58)                116       \n",
      "                                                                 \n",
      " dense_25 (Dense)            (None, 1)                 59        \n",
      "                                                                 \n",
      "=================================================================\n",
      "Total params: 8,702\n",
      "Trainable params: 8,702\n",
      "Non-trainable params: 0\n",
      "_________________________________________________________________\n"
     ]
    }
   ],
   "source": [
    "# First hidden layer\n",
    "nn.add(Dense(units=hidden_nodes_layer1, input_dim=number_input_features, activation=\"relu\"))\n",
    "\n",
    "\n",
    "# Output layer\n",
    "nn.add(Dense(units=1, activation=\"sigmoid\"))\n",
    "\n",
    "\n",
    "# Check the structure of the model\n",
    "nn.summary()"
   ]
  },
  {
   "cell_type": "code",
   "execution_count": 182,
   "metadata": {},
   "outputs": [],
   "source": [
    "# Compile the Sequential model\n",
    "nn_A1.compile(loss=\"binary_crossentropy\", optimizer=\"adam\", metrics=[\"accuracy\"])\n"
   ]
  },
  {
   "cell_type": "code",
   "execution_count": 183,
   "metadata": {},
   "outputs": [
    {
     "name": "stdout",
     "output_type": "stream",
     "text": [
      "Epoch 1/100\n",
      "1608/1608 [==============================] - 2s 1ms/step - loss: nan - accuracy: 0.0000e+00\n",
      "Epoch 2/100\n",
      "1608/1608 [==============================] - 2s 1ms/step - loss: nan - accuracy: 0.0000e+00\n",
      "Epoch 3/100\n",
      "1608/1608 [==============================] - 2s 1ms/step - loss: nan - accuracy: 0.0000e+00\n",
      "Epoch 4/100\n",
      "1608/1608 [==============================] - 2s 1ms/step - loss: nan - accuracy: 0.0000e+00\n",
      "Epoch 5/100\n",
      "1608/1608 [==============================] - 2s 1ms/step - loss: nan - accuracy: 0.0000e+00\n",
      "Epoch 6/100\n",
      "1608/1608 [==============================] - 2s 1ms/step - loss: nan - accuracy: 0.0000e+00\n",
      "Epoch 7/100\n",
      "1608/1608 [==============================] - 2s 1ms/step - loss: nan - accuracy: 0.0000e+00\n",
      "Epoch 8/100\n",
      "1608/1608 [==============================] - 2s 1ms/step - loss: nan - accuracy: 0.0000e+00\n",
      "Epoch 9/100\n",
      "1608/1608 [==============================] - 2s 1ms/step - loss: nan - accuracy: 0.0000e+00\n",
      "Epoch 10/100\n",
      "1608/1608 [==============================] - 2s 1ms/step - loss: nan - accuracy: 0.0000e+00\n",
      "Epoch 11/100\n",
      "1608/1608 [==============================] - 2s 1ms/step - loss: nan - accuracy: 0.0000e+00\n",
      "Epoch 12/100\n",
      "1608/1608 [==============================] - 2s 1ms/step - loss: nan - accuracy: 0.0000e+00\n",
      "Epoch 13/100\n",
      "1608/1608 [==============================] - 2s 1ms/step - loss: nan - accuracy: 0.0000e+00\n",
      "Epoch 14/100\n",
      "1608/1608 [==============================] - 2s 1ms/step - loss: nan - accuracy: 0.0000e+00\n",
      "Epoch 15/100\n",
      "1608/1608 [==============================] - 2s 1ms/step - loss: nan - accuracy: 0.0000e+00\n",
      "Epoch 16/100\n",
      "1608/1608 [==============================] - 2s 1ms/step - loss: nan - accuracy: 0.0000e+00\n",
      "Epoch 17/100\n",
      "1608/1608 [==============================] - 2s 1ms/step - loss: nan - accuracy: 0.0000e+00\n",
      "Epoch 18/100\n",
      "1608/1608 [==============================] - 2s 1ms/step - loss: nan - accuracy: 0.0000e+00\n",
      "Epoch 19/100\n",
      "1608/1608 [==============================] - 2s 1ms/step - loss: nan - accuracy: 0.0000e+00\n",
      "Epoch 20/100\n",
      "1608/1608 [==============================] - 2s 1ms/step - loss: nan - accuracy: 0.0000e+00\n",
      "Epoch 21/100\n",
      "1608/1608 [==============================] - 2s 1ms/step - loss: nan - accuracy: 0.0000e+00\n",
      "Epoch 22/100\n",
      "1608/1608 [==============================] - 2s 1ms/step - loss: nan - accuracy: 0.0000e+00\n",
      "Epoch 23/100\n",
      "1608/1608 [==============================] - 2s 1ms/step - loss: nan - accuracy: 0.0000e+00\n",
      "Epoch 24/100\n",
      "1608/1608 [==============================] - 2s 1ms/step - loss: nan - accuracy: 0.0000e+00\n",
      "Epoch 25/100\n",
      "1608/1608 [==============================] - 2s 1ms/step - loss: nan - accuracy: 0.0000e+00\n",
      "Epoch 26/100\n",
      "1608/1608 [==============================] - 2s 995us/step - loss: nan - accuracy: 0.0000e+00\n",
      "Epoch 27/100\n",
      "1608/1608 [==============================] - 2s 995us/step - loss: nan - accuracy: 0.0000e+00\n",
      "Epoch 28/100\n",
      "1608/1608 [==============================] - 2s 1ms/step - loss: nan - accuracy: 0.0000e+00\n",
      "Epoch 29/100\n",
      "1608/1608 [==============================] - 2s 1ms/step - loss: nan - accuracy: 0.0000e+00\n",
      "Epoch 30/100\n",
      "1608/1608 [==============================] - 2s 1ms/step - loss: nan - accuracy: 0.0000e+00\n",
      "Epoch 31/100\n",
      "1608/1608 [==============================] - 2s 990us/step - loss: nan - accuracy: 0.0000e+00\n",
      "Epoch 32/100\n",
      "1608/1608 [==============================] - 2s 1ms/step - loss: nan - accuracy: 0.0000e+00\n",
      "Epoch 33/100\n",
      "1608/1608 [==============================] - 2s 997us/step - loss: nan - accuracy: 0.0000e+00\n",
      "Epoch 34/100\n",
      "1608/1608 [==============================] - 2s 1ms/step - loss: nan - accuracy: 0.0000e+00\n",
      "Epoch 35/100\n",
      "1608/1608 [==============================] - 2s 1ms/step - loss: nan - accuracy: 0.0000e+00\n",
      "Epoch 36/100\n",
      "1608/1608 [==============================] - 2s 1ms/step - loss: nan - accuracy: 0.0000e+00\n",
      "Epoch 37/100\n",
      "1608/1608 [==============================] - 2s 1ms/step - loss: nan - accuracy: 0.0000e+00\n",
      "Epoch 38/100\n",
      "1608/1608 [==============================] - 2s 1ms/step - loss: nan - accuracy: 0.0000e+00\n",
      "Epoch 39/100\n",
      "1608/1608 [==============================] - 2s 1ms/step - loss: nan - accuracy: 0.0000e+00\n",
      "Epoch 40/100\n",
      "1608/1608 [==============================] - 2s 1ms/step - loss: nan - accuracy: 0.0000e+00\n",
      "Epoch 41/100\n",
      "1608/1608 [==============================] - 2s 1ms/step - loss: nan - accuracy: 0.0000e+00\n",
      "Epoch 42/100\n",
      "1608/1608 [==============================] - 2s 968us/step - loss: nan - accuracy: 0.0000e+00\n",
      "Epoch 43/100\n",
      "1608/1608 [==============================] - 2s 1ms/step - loss: nan - accuracy: 0.0000e+00\n",
      "Epoch 44/100\n",
      "1608/1608 [==============================] - 2s 984us/step - loss: nan - accuracy: 0.0000e+00\n",
      "Epoch 45/100\n",
      "1608/1608 [==============================] - 2s 1ms/step - loss: nan - accuracy: 0.0000e+00\n",
      "Epoch 46/100\n",
      "1608/1608 [==============================] - 2s 964us/step - loss: nan - accuracy: 0.0000e+00\n",
      "Epoch 47/100\n",
      "1608/1608 [==============================] - 2s 969us/step - loss: nan - accuracy: 0.0000e+00\n",
      "Epoch 48/100\n",
      "1608/1608 [==============================] - 2s 978us/step - loss: nan - accuracy: 0.0000e+00\n",
      "Epoch 49/100\n",
      "1608/1608 [==============================] - 2s 1ms/step - loss: nan - accuracy: 0.0000e+00\n",
      "Epoch 50/100\n",
      "1608/1608 [==============================] - 2s 988us/step - loss: nan - accuracy: 0.0000e+00\n",
      "Epoch 51/100\n",
      "1608/1608 [==============================] - 2s 973us/step - loss: nan - accuracy: 0.0000e+00\n",
      "Epoch 52/100\n",
      "1608/1608 [==============================] - 2s 995us/step - loss: nan - accuracy: 0.0000e+00\n",
      "Epoch 53/100\n",
      "1608/1608 [==============================] - 2s 996us/step - loss: nan - accuracy: 0.0000e+00\n",
      "Epoch 54/100\n",
      "1608/1608 [==============================] - 2s 999us/step - loss: nan - accuracy: 0.0000e+00\n",
      "Epoch 55/100\n",
      "1608/1608 [==============================] - 2s 991us/step - loss: nan - accuracy: 0.0000e+00\n",
      "Epoch 56/100\n",
      "1608/1608 [==============================] - 2s 1ms/step - loss: nan - accuracy: 0.0000e+00\n",
      "Epoch 57/100\n",
      "1608/1608 [==============================] - 2s 985us/step - loss: nan - accuracy: 0.0000e+00\n",
      "Epoch 58/100\n",
      "1608/1608 [==============================] - 2s 994us/step - loss: nan - accuracy: 0.0000e+00\n",
      "Epoch 59/100\n",
      "1608/1608 [==============================] - 2s 1ms/step - loss: nan - accuracy: 0.0000e+00\n",
      "Epoch 60/100\n",
      "1608/1608 [==============================] - 2s 1ms/step - loss: nan - accuracy: 0.0000e+00\n",
      "Epoch 61/100\n",
      "1608/1608 [==============================] - 2s 1ms/step - loss: nan - accuracy: 0.0000e+00\n",
      "Epoch 62/100\n",
      "1608/1608 [==============================] - 2s 1ms/step - loss: nan - accuracy: 0.0000e+00\n",
      "Epoch 63/100\n",
      "1608/1608 [==============================] - 2s 1ms/step - loss: nan - accuracy: 0.0000e+00\n",
      "Epoch 64/100\n",
      "1608/1608 [==============================] - 2s 1ms/step - loss: nan - accuracy: 0.0000e+00\n",
      "Epoch 65/100\n",
      "1608/1608 [==============================] - 2s 1ms/step - loss: nan - accuracy: 0.0000e+00\n",
      "Epoch 66/100\n",
      "1608/1608 [==============================] - 2s 987us/step - loss: nan - accuracy: 0.0000e+00\n",
      "Epoch 67/100\n",
      "1608/1608 [==============================] - 2s 969us/step - loss: nan - accuracy: 0.0000e+00\n",
      "Epoch 68/100\n",
      "1608/1608 [==============================] - 2s 962us/step - loss: nan - accuracy: 0.0000e+00\n",
      "Epoch 69/100\n",
      "1608/1608 [==============================] - 2s 949us/step - loss: nan - accuracy: 0.0000e+00\n",
      "Epoch 70/100\n",
      "1608/1608 [==============================] - 2s 966us/step - loss: nan - accuracy: 0.0000e+00\n",
      "Epoch 71/100\n",
      "1608/1608 [==============================] - 2s 1ms/step - loss: nan - accuracy: 0.0000e+00\n",
      "Epoch 72/100\n",
      "1608/1608 [==============================] - 2s 969us/step - loss: nan - accuracy: 0.0000e+00\n",
      "Epoch 73/100\n",
      "1608/1608 [==============================] - 2s 971us/step - loss: nan - accuracy: 0.0000e+00\n",
      "Epoch 74/100\n",
      "1608/1608 [==============================] - 2s 983us/step - loss: nan - accuracy: 0.0000e+00\n",
      "Epoch 75/100\n",
      "1608/1608 [==============================] - 2s 962us/step - loss: nan - accuracy: 0.0000e+00\n",
      "Epoch 76/100\n",
      "1608/1608 [==============================] - 2s 973us/step - loss: nan - accuracy: 0.0000e+00\n",
      "Epoch 77/100\n",
      "1608/1608 [==============================] - 2s 983us/step - loss: nan - accuracy: 0.0000e+00\n",
      "Epoch 78/100\n",
      "1608/1608 [==============================] - 2s 965us/step - loss: nan - accuracy: 0.0000e+00\n",
      "Epoch 79/100\n",
      "1608/1608 [==============================] - 2s 958us/step - loss: nan - accuracy: 0.0000e+00\n",
      "Epoch 80/100\n",
      "1608/1608 [==============================] - 2s 981us/step - loss: nan - accuracy: 0.0000e+00\n",
      "Epoch 81/100\n",
      "1608/1608 [==============================] - 2s 952us/step - loss: nan - accuracy: 0.0000e+00\n",
      "Epoch 82/100\n",
      "1608/1608 [==============================] - 2s 1ms/step - loss: nan - accuracy: 0.0000e+00\n",
      "Epoch 83/100\n",
      "1608/1608 [==============================] - 2s 1ms/step - loss: nan - accuracy: 0.0000e+00\n",
      "Epoch 84/100\n",
      "1608/1608 [==============================] - 2s 1ms/step - loss: nan - accuracy: 0.0000e+00\n",
      "Epoch 85/100\n",
      "1608/1608 [==============================] - 2s 965us/step - loss: nan - accuracy: 0.0000e+00\n",
      "Epoch 86/100\n",
      "1608/1608 [==============================] - 2s 1ms/step - loss: nan - accuracy: 0.0000e+00\n",
      "Epoch 87/100\n",
      "1608/1608 [==============================] - 2s 996us/step - loss: nan - accuracy: 0.0000e+00\n",
      "Epoch 88/100\n",
      "1608/1608 [==============================] - 2s 1ms/step - loss: nan - accuracy: 0.0000e+00\n",
      "Epoch 89/100\n",
      "1608/1608 [==============================] - 2s 1ms/step - loss: nan - accuracy: 0.0000e+00\n",
      "Epoch 90/100\n",
      "1608/1608 [==============================] - 2s 1ms/step - loss: nan - accuracy: 0.0000e+00\n",
      "Epoch 91/100\n",
      "1608/1608 [==============================] - 2s 1ms/step - loss: nan - accuracy: 0.0000e+00\n",
      "Epoch 92/100\n",
      "1608/1608 [==============================] - 2s 1ms/step - loss: nan - accuracy: 0.0000e+00\n",
      "Epoch 93/100\n",
      "1608/1608 [==============================] - 2s 1ms/step - loss: nan - accuracy: 0.0000e+00\n",
      "Epoch 94/100\n",
      "1608/1608 [==============================] - 2s 1ms/step - loss: nan - accuracy: 0.0000e+00\n",
      "Epoch 95/100\n",
      "1608/1608 [==============================] - 2s 978us/step - loss: nan - accuracy: 0.0000e+00\n",
      "Epoch 96/100\n",
      "1608/1608 [==============================] - 2s 979us/step - loss: nan - accuracy: 0.0000e+00\n",
      "Epoch 97/100\n",
      "1608/1608 [==============================] - 2s 950us/step - loss: nan - accuracy: 0.0000e+00\n",
      "Epoch 98/100\n",
      "1608/1608 [==============================] - 2s 981us/step - loss: nan - accuracy: 0.0000e+00\n",
      "Epoch 99/100\n",
      "1608/1608 [==============================] - 2s 957us/step - loss: nan - accuracy: 0.0000e+00\n",
      "Epoch 100/100\n",
      "1608/1608 [==============================] - 2s 972us/step - loss: nan - accuracy: 0.0000e+00\n"
     ]
    }
   ],
   "source": [
    "# Fit the model using 50 epochs and the training data\n",
    "fit_model_A1 = nn_A1.fit(X_train_scaled, y_train, epochs=100)\n"
   ]
  },
  {
   "cell_type": "markdown",
   "metadata": {},
   "source": [
    "#### Alternative Model 2"
   ]
  },
  {
   "cell_type": "code",
   "execution_count": 184,
   "metadata": {},
   "outputs": [
    {
     "data": {
      "text/plain": [
       "116"
      ]
     },
     "execution_count": 184,
     "metadata": {},
     "output_type": "execute_result"
    }
   ],
   "source": [
    "# Define the the number of inputs (features) to the model\n",
    "number_input_features = len(X_train.iloc[0])\n",
    "\n",
    "# Review the number of features\n",
    "number_input_features"
   ]
  },
  {
   "cell_type": "code",
   "execution_count": 185,
   "metadata": {},
   "outputs": [],
   "source": [
    "# Define the number of neurons in the output layer\n",
    "number_output_neurons_A2 = 1"
   ]
  },
  {
   "cell_type": "code",
   "execution_count": 186,
   "metadata": {},
   "outputs": [
    {
     "data": {
      "text/plain": [
       "58"
      ]
     },
     "execution_count": 186,
     "metadata": {},
     "output_type": "execute_result"
    }
   ],
   "source": [
    "# Define the number of hidden nodes for the first hidden layer\n",
    "hidden_nodes_layer1_A2 = (number_input_features + 1) // 2\n",
    "\n",
    "# Review the number of hidden nodes in the first layer\n",
    "hidden_nodes_layer1_A2"
   ]
  },
  {
   "cell_type": "code",
   "execution_count": 187,
   "metadata": {},
   "outputs": [],
   "source": [
    "# Create the Sequential model instance\n",
    "nn_A2 = Sequential()"
   ]
  },
  {
   "cell_type": "code",
   "execution_count": 188,
   "metadata": {},
   "outputs": [
    {
     "name": "stdout",
     "output_type": "stream",
     "text": [
      "Model: \"sequential_8\"\n",
      "_________________________________________________________________\n",
      " Layer (type)                Output Shape              Param #   \n",
      "=================================================================\n",
      " dense_26 (Dense)            (None, 58)                6786      \n",
      "                                                                 \n",
      " dense_27 (Dense)            (None, 1)                 59        \n",
      "                                                                 \n",
      "=================================================================\n",
      "Total params: 6,845\n",
      "Trainable params: 6,845\n",
      "Non-trainable params: 0\n",
      "_________________________________________________________________\n"
     ]
    }
   ],
   "source": [
    "# First hidden layer\n",
    "nn_A2.add(Dense(units=hidden_nodes_layer1, input_dim=number_input_features, activation=\"relu\"))\n",
    "\n",
    "# OutputSequentialYOUR CODE HERE\n",
    "nn_A2.add(Dense(units=1, activation=\"sigmoid\"))\n",
    "\n",
    "# Check the structure of the model\n",
    "nn_A2.summary()\n"
   ]
  },
  {
   "cell_type": "code",
   "execution_count": 189,
   "metadata": {},
   "outputs": [],
   "source": [
    "# Compile the model\n",
    "nn_A2.compile(loss=\"binary_crossentropy\", optimizer=\"SGD\", metrics=[\"accuracy\"])\n"
   ]
  },
  {
   "cell_type": "code",
   "execution_count": 190,
   "metadata": {},
   "outputs": [
    {
     "name": "stdout",
     "output_type": "stream",
     "text": [
      "Epoch 1/75\n",
      "1608/1608 [==============================] - 2s 1ms/step - loss: nan - accuracy: 0.2360\n",
      "Epoch 2/75\n",
      "1608/1608 [==============================] - 2s 1ms/step - loss: nan - accuracy: 0.2360\n",
      "Epoch 3/75\n",
      "1608/1608 [==============================] - 2s 1ms/step - loss: nan - accuracy: 0.2360\n",
      "Epoch 4/75\n",
      "1608/1608 [==============================] - 2s 1ms/step - loss: nan - accuracy: 0.2360\n",
      "Epoch 5/75\n",
      "1608/1608 [==============================] - 2s 1ms/step - loss: nan - accuracy: 0.2360\n",
      "Epoch 6/75\n",
      "1608/1608 [==============================] - 2s 1ms/step - loss: nan - accuracy: 0.2360\n",
      "Epoch 7/75\n",
      "1608/1608 [==============================] - 2s 1ms/step - loss: nan - accuracy: 0.2360\n",
      "Epoch 8/75\n",
      "1608/1608 [==============================] - 3s 2ms/step - loss: nan - accuracy: 0.2360\n",
      "Epoch 9/75\n",
      "1608/1608 [==============================] - 2s 1ms/step - loss: nan - accuracy: 0.2360\n",
      "Epoch 10/75\n",
      "1608/1608 [==============================] - 2s 1ms/step - loss: nan - accuracy: 0.2360\n",
      "Epoch 11/75\n",
      "1608/1608 [==============================] - 2s 2ms/step - loss: nan - accuracy: 0.2360\n",
      "Epoch 12/75\n",
      "1608/1608 [==============================] - 2s 1ms/step - loss: nan - accuracy: 0.2360\n",
      "Epoch 13/75\n",
      "1608/1608 [==============================] - 2s 1ms/step - loss: nan - accuracy: 0.2360\n",
      "Epoch 14/75\n",
      "1608/1608 [==============================] - 2s 2ms/step - loss: nan - accuracy: 0.2360\n",
      "Epoch 15/75\n",
      "1608/1608 [==============================] - 2s 1ms/step - loss: nan - accuracy: 0.2360\n",
      "Epoch 16/75\n",
      "1608/1608 [==============================] - 2s 1ms/step - loss: nan - accuracy: 0.2360\n",
      "Epoch 17/75\n",
      "1608/1608 [==============================] - 2s 1ms/step - loss: nan - accuracy: 0.2360\n",
      "Epoch 18/75\n",
      "1608/1608 [==============================] - 2s 1ms/step - loss: nan - accuracy: 0.2360\n",
      "Epoch 19/75\n",
      "1608/1608 [==============================] - 2s 1ms/step - loss: nan - accuracy: 0.2360\n",
      "Epoch 20/75\n",
      "1608/1608 [==============================] - 2s 2ms/step - loss: nan - accuracy: 0.2360\n",
      "Epoch 21/75\n",
      "1608/1608 [==============================] - 2s 1ms/step - loss: nan - accuracy: 0.2360\n",
      "Epoch 22/75\n",
      "1608/1608 [==============================] - 2s 1ms/step - loss: nan - accuracy: 0.2360\n",
      "Epoch 23/75\n",
      "1608/1608 [==============================] - 2s 1ms/step - loss: nan - accuracy: 0.2360\n",
      "Epoch 24/75\n",
      "1608/1608 [==============================] - 2s 1ms/step - loss: nan - accuracy: 0.2360\n",
      "Epoch 25/75\n",
      "1608/1608 [==============================] - 2s 1ms/step - loss: nan - accuracy: 0.2360\n",
      "Epoch 26/75\n",
      "1608/1608 [==============================] - 2s 1ms/step - loss: nan - accuracy: 0.2360\n",
      "Epoch 27/75\n",
      "1608/1608 [==============================] - 2s 1ms/step - loss: nan - accuracy: 0.2360\n",
      "Epoch 28/75\n",
      "1608/1608 [==============================] - 2s 1ms/step - loss: nan - accuracy: 0.2360\n",
      "Epoch 29/75\n",
      "1608/1608 [==============================] - 3s 2ms/step - loss: nan - accuracy: 0.2360\n",
      "Epoch 30/75\n",
      "1608/1608 [==============================] - 2s 1ms/step - loss: nan - accuracy: 0.2360\n",
      "Epoch 31/75\n",
      "1608/1608 [==============================] - 2s 1ms/step - loss: nan - accuracy: 0.2360\n",
      "Epoch 32/75\n",
      "1608/1608 [==============================] - 2s 1ms/step - loss: nan - accuracy: 0.2360\n",
      "Epoch 33/75\n",
      "1608/1608 [==============================] - 2s 1ms/step - loss: nan - accuracy: 0.2360\n",
      "Epoch 34/75\n",
      "1608/1608 [==============================] - 2s 1ms/step - loss: nan - accuracy: 0.2360\n",
      "Epoch 35/75\n",
      "1608/1608 [==============================] - 2s 1ms/step - loss: nan - accuracy: 0.2360\n",
      "Epoch 36/75\n",
      "1608/1608 [==============================] - 2s 1ms/step - loss: nan - accuracy: 0.2360\n",
      "Epoch 37/75\n",
      "1608/1608 [==============================] - 2s 1ms/step - loss: nan - accuracy: 0.2360\n",
      "Epoch 38/75\n",
      "1608/1608 [==============================] - 2s 1ms/step - loss: nan - accuracy: 0.2360\n",
      "Epoch 39/75\n",
      "1608/1608 [==============================] - 2s 1ms/step - loss: nan - accuracy: 0.2360\n",
      "Epoch 40/75\n",
      "1608/1608 [==============================] - 2s 1ms/step - loss: nan - accuracy: 0.2360\n",
      "Epoch 41/75\n",
      "1608/1608 [==============================] - 2s 1ms/step - loss: nan - accuracy: 0.2360\n",
      "Epoch 42/75\n",
      "1608/1608 [==============================] - 2s 2ms/step - loss: nan - accuracy: 0.2360\n",
      "Epoch 43/75\n",
      "1608/1608 [==============================] - 2s 1ms/step - loss: nan - accuracy: 0.2360\n",
      "Epoch 44/75\n",
      "1608/1608 [==============================] - 2s 1ms/step - loss: nan - accuracy: 0.2360\n",
      "Epoch 45/75\n",
      "1608/1608 [==============================] - 2s 1ms/step - loss: nan - accuracy: 0.2360\n",
      "Epoch 46/75\n",
      "1608/1608 [==============================] - 2s 1ms/step - loss: nan - accuracy: 0.2360\n",
      "Epoch 47/75\n",
      "1608/1608 [==============================] - 2s 1ms/step - loss: nan - accuracy: 0.2360\n",
      "Epoch 48/75\n",
      "1608/1608 [==============================] - 2s 1ms/step - loss: nan - accuracy: 0.2360\n",
      "Epoch 49/75\n",
      "1608/1608 [==============================] - 2s 1ms/step - loss: nan - accuracy: 0.2360\n",
      "Epoch 50/75\n",
      "1608/1608 [==============================] - 2s 1ms/step - loss: nan - accuracy: 0.2360\n",
      "Epoch 51/75\n",
      "1608/1608 [==============================] - 2s 1ms/step - loss: nan - accuracy: 0.2360\n",
      "Epoch 52/75\n",
      "1608/1608 [==============================] - 2s 1ms/step - loss: nan - accuracy: 0.2360\n",
      "Epoch 53/75\n",
      "1608/1608 [==============================] - 2s 1ms/step - loss: nan - accuracy: 0.2360\n",
      "Epoch 54/75\n",
      "1608/1608 [==============================] - 2s 1ms/step - loss: nan - accuracy: 0.2360\n",
      "Epoch 55/75\n",
      "1608/1608 [==============================] - 2s 1ms/step - loss: nan - accuracy: 0.2360\n",
      "Epoch 56/75\n",
      "1608/1608 [==============================] - 2s 1ms/step - loss: nan - accuracy: 0.2360\n",
      "Epoch 57/75\n",
      "1608/1608 [==============================] - 2s 1ms/step - loss: nan - accuracy: 0.2360\n",
      "Epoch 58/75\n",
      "1608/1608 [==============================] - 2s 1ms/step - loss: nan - accuracy: 0.2360\n",
      "Epoch 59/75\n",
      "1608/1608 [==============================] - 2s 1ms/step - loss: nan - accuracy: 0.2360\n",
      "Epoch 60/75\n",
      "1608/1608 [==============================] - 2s 1ms/step - loss: nan - accuracy: 0.2360\n",
      "Epoch 61/75\n",
      "1608/1608 [==============================] - 2s 1ms/step - loss: nan - accuracy: 0.2360\n",
      "Epoch 62/75\n",
      "1608/1608 [==============================] - 2s 1ms/step - loss: nan - accuracy: 0.2360\n",
      "Epoch 63/75\n",
      "1608/1608 [==============================] - 2s 1ms/step - loss: nan - accuracy: 0.2360\n",
      "Epoch 64/75\n",
      "1608/1608 [==============================] - 3s 2ms/step - loss: nan - accuracy: 0.2360\n",
      "Epoch 65/75\n",
      "1608/1608 [==============================] - 2s 1ms/step - loss: nan - accuracy: 0.2360\n",
      "Epoch 66/75\n",
      "1608/1608 [==============================] - 2s 1ms/step - loss: nan - accuracy: 0.2360\n",
      "Epoch 67/75\n",
      "1608/1608 [==============================] - 3s 2ms/step - loss: nan - accuracy: 0.2360\n",
      "Epoch 68/75\n",
      "1608/1608 [==============================] - 3s 2ms/step - loss: nan - accuracy: 0.2360\n",
      "Epoch 69/75\n",
      "1608/1608 [==============================] - 2s 2ms/step - loss: nan - accuracy: 0.2360\n",
      "Epoch 70/75\n",
      "1608/1608 [==============================] - 2s 1ms/step - loss: nan - accuracy: 0.2360\n",
      "Epoch 71/75\n",
      "1608/1608 [==============================] - 3s 2ms/step - loss: nan - accuracy: 0.2360\n",
      "Epoch 72/75\n",
      "1608/1608 [==============================] - 2s 1ms/step - loss: nan - accuracy: 0.2360\n",
      "Epoch 73/75\n",
      "1608/1608 [==============================] - 2s 1ms/step - loss: nan - accuracy: 0.2360\n",
      "Epoch 74/75\n",
      "1608/1608 [==============================] - 2s 1ms/step - loss: nan - accuracy: 0.2360\n",
      "Epoch 75/75\n",
      "1608/1608 [==============================] - 2s 1ms/step - loss: nan - accuracy: 0.2360\n"
     ]
    }
   ],
   "source": [
    "# Fit the model\n",
    "fit_model_A1 = nn_A2.fit(X_train_scaled, y_train, epochs=75)"
   ]
  },
  {
   "cell_type": "markdown",
   "metadata": {},
   "source": [
    "### Step 2: After finishing your models, display the accuracy scores achieved by each model, and compare the results."
   ]
  },
  {
   "cell_type": "code",
   "execution_count": 191,
   "metadata": {},
   "outputs": [
    {
     "name": "stdout",
     "output_type": "stream",
     "text": [
      "Original Model Results\n",
      "536/536 - 1s - loss: nan - accuracy: 0.2272 - 538ms/epoch - 1ms/step\n",
      "Loss: nan, Accuracy: 0.22723032534122467\n"
     ]
    }
   ],
   "source": [
    "print(\"Original Model Results\")\n",
    "\n",
    "# Evaluate the model loss and accuracy metrics using the evaluate method and the test data\n",
    "model_loss, model_accuracy = nn.evaluate(X_test_scaled,y_test,verbose=2)\n",
    "\n",
    "# Display the model loss and accuracy results\n",
    "print(f\"Loss: {model_loss}, Accuracy: {model_accuracy}\")"
   ]
  },
  {
   "cell_type": "code",
   "execution_count": 192,
   "metadata": {},
   "outputs": [
    {
     "name": "stdout",
     "output_type": "stream",
     "text": [
      "Alternative Model 1 Results\n",
      "536/536 - 1s - loss: nan - accuracy: 0.0000e+00 - 647ms/epoch - 1ms/step\n",
      "Loss: nan, Accuracy: 0.0\n"
     ]
    }
   ],
   "source": [
    "print(\"Alternative Model 1 Results\")\n",
    "\n",
    "# Evaluate the model loss and accuracy metrics using the evaluate method and the test data\n",
    "model_loss, model_accuracy = nn_A1.evaluate(X_test_scaled,y_test,verbose=2)\n",
    "\n",
    "# Display the model loss and accuracy results\n",
    "print(f\"Loss: {model_loss}, Accuracy: {model_accuracy}\")"
   ]
  },
  {
   "cell_type": "code",
   "execution_count": 193,
   "metadata": {},
   "outputs": [
    {
     "name": "stdout",
     "output_type": "stream",
     "text": [
      "Alternative Model 2 Results\n",
      "536/536 - 1s - loss: nan - accuracy: 0.2272 - 635ms/epoch - 1ms/step\n",
      "Loss: nan, Accuracy: 0.22723032534122467\n"
     ]
    }
   ],
   "source": [
    "print(\"Alternative Model 2 Results\")\n",
    "\n",
    "# Evaluate the model loss and accuracy metrics using the evaluate method and the test data\n",
    "model_loss, model_accuracy = nn_A2.evaluate(X_test_scaled,y_test,verbose=2)\n",
    "\n",
    "# Display the model loss and accuracy results\n",
    "print(f\"Loss: {model_loss}, Accuracy: {model_accuracy}\")"
   ]
  },
  {
   "cell_type": "markdown",
   "metadata": {},
   "source": [
    "### Step 3: Save each of your alternative models as an HDF5 file.\n"
   ]
  },
  {
   "cell_type": "code",
   "execution_count": 194,
   "metadata": {},
   "outputs": [],
   "source": [
    "# Set the file path for the first alternative model\n",
    "file_path = Path(\"AlphabetSoup_A1.h5\")\n",
    "\n",
    "# Export your model to a HDF5 file\n",
    "nn_A1.save(file_path)\n"
   ]
  },
  {
   "cell_type": "code",
   "execution_count": 195,
   "metadata": {},
   "outputs": [],
   "source": [
    "# Set the file path for the second alternative model\n",
    "file_path = Path(\"AlphabetSoup_A2.h5\")\n",
    "\n",
    "# Export your model to a HDF5 file\n",
    "nn_A2.save(file_path)\n"
   ]
  },
  {
   "cell_type": "code",
   "execution_count": null,
   "metadata": {},
   "outputs": [],
   "source": []
  }
 ],
 "metadata": {
  "kernelspec": {
   "display_name": "Python 3 (ipykernel)",
   "language": "python",
   "name": "python3"
  },
  "language_info": {
   "codemirror_mode": {
    "name": "ipython",
    "version": 3
   },
   "file_extension": ".py",
   "mimetype": "text/x-python",
   "name": "python",
   "nbconvert_exporter": "python",
   "pygments_lexer": "ipython3",
   "version": "3.10.10"
  }
 },
 "nbformat": 4,
 "nbformat_minor": 4
}
